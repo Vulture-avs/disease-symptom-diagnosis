{
 "cells": [
  {
   "cell_type": "code",
   "execution_count": 4,
   "id": "f76f0ffe",
   "metadata": {},
   "outputs": [],
   "source": [
    "import pandas as pd\n",
    "from sklearn.model_selection import train_test_split\n",
    "from sklearn.preprocessing import LabelEncoder\n",
    "from xgboost import XGBClassifier\n",
    "from sklearn.metrics import classification_report\n",
    "import time\n",
    "\n",
    "# 1. Load the dataset\n",
    "df = pd.read_csv('dataset.csv')\n",
    "\n",
    "# 2. Filter out rare diseases (keep only diseases with ≥2 cases)\n",
    "min_samples = 2\n",
    "disease_counts = df['diseases'].value_counts()\n",
    "common_diseases = disease_counts[disease_counts >= min_samples].index\n",
    "df_filtered = df[df['diseases'].isin(common_diseases)]\n",
    "\n",
    "# 3. Encode disease labels\n",
    "le = LabelEncoder()\n",
    "y = le.fit_transform(df_filtered['diseases'])  # Convert disease names to numbers\n",
    "X = df_filtered.drop('diseases', axis=1)       # Features (all columns except 'diseases')"
   ]
  },
  {
   "cell_type": "code",
   "execution_count": 5,
   "id": "ec3fc217",
   "metadata": {},
   "outputs": [
    {
     "name": "stdout",
     "output_type": "stream",
     "text": [
      "\n",
      "Data Summary:\n",
      "- Training samples: 197540\n",
      "- Test samples: 49386\n",
      "- Number of diseases: 754\n",
      "- Number of symptoms/features: 377\n"
     ]
    }
   ],
   "source": [
    "# 4. Split data into training (80%) and testing (20%) sets\n",
    "X_train, X_test, y_train, y_test = train_test_split(\n",
    "    X, y, \n",
    "    test_size=0.2, \n",
    "    random_state=42,  # For reproducibility\n",
    "    stratify=y       # Maintains disease distribution in splits\n",
    ")\n",
    "\n",
    "print(f\"\\nData Summary:\")\n",
    "print(f\"- Training samples: {X_train.shape[0]}\")\n",
    "print(f\"- Test samples: {X_test.shape[0]}\")\n",
    "print(f\"- Number of diseases: {len(le.classes_)}\")\n",
    "print(f\"- Number of symptoms/features: {X_train.shape[1]}\")"
   ]
  },
  {
   "cell_type": "code",
   "execution_count": 6,
   "id": "17aa4348",
   "metadata": {},
   "outputs": [],
   "source": [
    "# 5. Configure XGBoost model\n",
    "# 5. Configure XGBoost model for CPU inference\n",
    "model = XGBClassifier(\n",
    "    objective='multi:softmax',    # Multi-class classification\n",
    "    num_class=len(le.classes_),  # Number of diseases\n",
    "    n_estimators=200,            # Number of trees\n",
    "    max_depth=6,                 # Tree depth\n",
    "    learning_rate=0.1,           # Learning rate\n",
    "    tree_method='hist',          # Fast histogram algorithm (CPU-compatible)\n",
    "    predictor='cpu_predictor',   # Force CPU prediction\n",
    "    eval_metric='mlogloss',      # Evaluation metric\n",
    "    early_stopping_rounds=10,    # Early stopping\n",
    "    verbosity=1                  # Logging level\n",
    ")\n"
   ]
  },
  {
   "cell_type": "code",
   "execution_count": 7,
   "id": "b26a6da9",
   "metadata": {},
   "outputs": [
    {
     "name": "stdout",
     "output_type": "stream",
     "text": [
      "\n",
      "Starting training...\n"
     ]
    },
    {
     "name": "stderr",
     "output_type": "stream",
     "text": [
      "/home/anshu/code_space/disease-symptom-diagnosis/venv/lib/python3.12/site-packages/xgboost/callback.py:386: UserWarning: [12:13:38] WARNING: /workspace/src/learner.cc:738: \n",
      "Parameters: { \"predictor\" } are not used.\n",
      "\n",
      "  self.starting_round = model.num_boosted_rounds()\n"
     ]
    },
    {
     "name": "stdout",
     "output_type": "stream",
     "text": [
      "[0]\tvalidation_0-mlogloss:3.55700\n",
      "[1]\tvalidation_0-mlogloss:2.60406\n",
      "[2]\tvalidation_0-mlogloss:2.23674\n",
      "[3]\tvalidation_0-mlogloss:1.99859\n",
      "[4]\tvalidation_0-mlogloss:1.81792\n",
      "[5]\tvalidation_0-mlogloss:1.67469\n",
      "[6]\tvalidation_0-mlogloss:1.55582\n",
      "[7]\tvalidation_0-mlogloss:1.45494\n",
      "[8]\tvalidation_0-mlogloss:1.36858\n",
      "[9]\tvalidation_0-mlogloss:1.29275\n",
      "[10]\tvalidation_0-mlogloss:1.22544\n",
      "[11]\tvalidation_0-mlogloss:1.16485\n",
      "[12]\tvalidation_0-mlogloss:1.10991\n",
      "[13]\tvalidation_0-mlogloss:1.06089\n",
      "[14]\tvalidation_0-mlogloss:1.01673\n",
      "[15]\tvalidation_0-mlogloss:0.97631\n",
      "[16]\tvalidation_0-mlogloss:0.93912\n",
      "[17]\tvalidation_0-mlogloss:0.90471\n",
      "[18]\tvalidation_0-mlogloss:0.87321\n",
      "[19]\tvalidation_0-mlogloss:0.84412\n",
      "[20]\tvalidation_0-mlogloss:0.81739\n",
      "[21]\tvalidation_0-mlogloss:0.79288\n",
      "[22]\tvalidation_0-mlogloss:0.77019\n",
      "[23]\tvalidation_0-mlogloss:0.74902\n",
      "[24]\tvalidation_0-mlogloss:0.72952\n",
      "[25]\tvalidation_0-mlogloss:0.71118\n",
      "[26]\tvalidation_0-mlogloss:0.69424\n",
      "[27]\tvalidation_0-mlogloss:0.67828\n",
      "[28]\tvalidation_0-mlogloss:0.66345\n",
      "[29]\tvalidation_0-mlogloss:0.64960\n",
      "[30]\tvalidation_0-mlogloss:0.63663\n",
      "[31]\tvalidation_0-mlogloss:0.62433\n",
      "[32]\tvalidation_0-mlogloss:0.61287\n",
      "[33]\tvalidation_0-mlogloss:0.60209\n",
      "[34]\tvalidation_0-mlogloss:0.59191\n",
      "[35]\tvalidation_0-mlogloss:0.58235\n",
      "[36]\tvalidation_0-mlogloss:0.57339\n",
      "[37]\tvalidation_0-mlogloss:0.56481\n",
      "[38]\tvalidation_0-mlogloss:0.55672\n",
      "[39]\tvalidation_0-mlogloss:0.54908\n",
      "[40]\tvalidation_0-mlogloss:0.54190\n",
      "[41]\tvalidation_0-mlogloss:0.53505\n",
      "[42]\tvalidation_0-mlogloss:0.52863\n",
      "[43]\tvalidation_0-mlogloss:0.52265\n",
      "[44]\tvalidation_0-mlogloss:0.51686\n",
      "[45]\tvalidation_0-mlogloss:0.51146\n",
      "[46]\tvalidation_0-mlogloss:0.50632\n",
      "[47]\tvalidation_0-mlogloss:0.50138\n",
      "[48]\tvalidation_0-mlogloss:0.49674\n",
      "[49]\tvalidation_0-mlogloss:0.49235\n",
      "[50]\tvalidation_0-mlogloss:0.48816\n",
      "[51]\tvalidation_0-mlogloss:0.48419\n",
      "[52]\tvalidation_0-mlogloss:0.48052\n",
      "[53]\tvalidation_0-mlogloss:0.47691\n",
      "[54]\tvalidation_0-mlogloss:0.47352\n",
      "[55]\tvalidation_0-mlogloss:0.47019\n",
      "[56]\tvalidation_0-mlogloss:0.46707\n",
      "[57]\tvalidation_0-mlogloss:0.46411\n",
      "[58]\tvalidation_0-mlogloss:0.46130\n",
      "[59]\tvalidation_0-mlogloss:0.45862\n",
      "[60]\tvalidation_0-mlogloss:0.45607\n",
      "[61]\tvalidation_0-mlogloss:0.45363\n",
      "[62]\tvalidation_0-mlogloss:0.45134\n",
      "[63]\tvalidation_0-mlogloss:0.44918\n",
      "[64]\tvalidation_0-mlogloss:0.44700\n",
      "[65]\tvalidation_0-mlogloss:0.44495\n",
      "[66]\tvalidation_0-mlogloss:0.44307\n",
      "[67]\tvalidation_0-mlogloss:0.44122\n",
      "[68]\tvalidation_0-mlogloss:0.43955\n",
      "[69]\tvalidation_0-mlogloss:0.43789\n",
      "[70]\tvalidation_0-mlogloss:0.43633\n",
      "[71]\tvalidation_0-mlogloss:0.43490\n",
      "[72]\tvalidation_0-mlogloss:0.43346\n",
      "[73]\tvalidation_0-mlogloss:0.43210\n",
      "[74]\tvalidation_0-mlogloss:0.43083\n",
      "[75]\tvalidation_0-mlogloss:0.42962\n",
      "[76]\tvalidation_0-mlogloss:0.42842\n",
      "[77]\tvalidation_0-mlogloss:0.42728\n",
      "[78]\tvalidation_0-mlogloss:0.42623\n",
      "[79]\tvalidation_0-mlogloss:0.42517\n",
      "[80]\tvalidation_0-mlogloss:0.42415\n",
      "[81]\tvalidation_0-mlogloss:0.42324\n",
      "[82]\tvalidation_0-mlogloss:0.42235\n",
      "[83]\tvalidation_0-mlogloss:0.42150\n",
      "[84]\tvalidation_0-mlogloss:0.42070\n",
      "[85]\tvalidation_0-mlogloss:0.41995\n",
      "[86]\tvalidation_0-mlogloss:0.41921\n",
      "[87]\tvalidation_0-mlogloss:0.41847\n",
      "[88]\tvalidation_0-mlogloss:0.41778\n",
      "[89]\tvalidation_0-mlogloss:0.41717\n",
      "[90]\tvalidation_0-mlogloss:0.41657\n",
      "[91]\tvalidation_0-mlogloss:0.41599\n",
      "[92]\tvalidation_0-mlogloss:0.41544\n",
      "[93]\tvalidation_0-mlogloss:0.41492\n",
      "[94]\tvalidation_0-mlogloss:0.41443\n",
      "[95]\tvalidation_0-mlogloss:0.41393\n",
      "[96]\tvalidation_0-mlogloss:0.41348\n",
      "[97]\tvalidation_0-mlogloss:0.41306\n",
      "[98]\tvalidation_0-mlogloss:0.41267\n",
      "[99]\tvalidation_0-mlogloss:0.41223\n",
      "[100]\tvalidation_0-mlogloss:0.41179\n",
      "[101]\tvalidation_0-mlogloss:0.41144\n",
      "[102]\tvalidation_0-mlogloss:0.41110\n",
      "[103]\tvalidation_0-mlogloss:0.41077\n",
      "[104]\tvalidation_0-mlogloss:0.41050\n",
      "[105]\tvalidation_0-mlogloss:0.41019\n",
      "[106]\tvalidation_0-mlogloss:0.40988\n",
      "[107]\tvalidation_0-mlogloss:0.40966\n",
      "[108]\tvalidation_0-mlogloss:0.40942\n",
      "[109]\tvalidation_0-mlogloss:0.40926\n",
      "[110]\tvalidation_0-mlogloss:0.40911\n",
      "[111]\tvalidation_0-mlogloss:0.40899\n",
      "[112]\tvalidation_0-mlogloss:0.40889\n",
      "[113]\tvalidation_0-mlogloss:0.40874\n",
      "[114]\tvalidation_0-mlogloss:0.40866\n",
      "[115]\tvalidation_0-mlogloss:0.40854\n",
      "[116]\tvalidation_0-mlogloss:0.40848\n",
      "[117]\tvalidation_0-mlogloss:0.40840\n",
      "[118]\tvalidation_0-mlogloss:0.40833\n",
      "[119]\tvalidation_0-mlogloss:0.40831\n",
      "[120]\tvalidation_0-mlogloss:0.40827\n",
      "[121]\tvalidation_0-mlogloss:0.40823\n",
      "[122]\tvalidation_0-mlogloss:0.40824\n",
      "[123]\tvalidation_0-mlogloss:0.40829\n",
      "[124]\tvalidation_0-mlogloss:0.40835\n",
      "[125]\tvalidation_0-mlogloss:0.40841\n",
      "[126]\tvalidation_0-mlogloss:0.40844\n",
      "[127]\tvalidation_0-mlogloss:0.40848\n",
      "[128]\tvalidation_0-mlogloss:0.40855\n",
      "[129]\tvalidation_0-mlogloss:0.40868\n",
      "[130]\tvalidation_0-mlogloss:0.40876\n",
      "\n",
      "Training completed in 107.8 minutes\n"
     ]
    }
   ],
   "source": [
    "# 6. Train the model\n",
    "print(\"\\nStarting training...\")\n",
    "start_time = time.time()\n",
    "\n",
    "model.fit(\n",
    "    X_train, y_train,\n",
    "    eval_set=[(X_test, y_test)],  # Evaluate on test set\n",
    "    verbose=True                  # Show progress\n",
    ")\n",
    "\n",
    "training_time = (time.time() - start_time) / 60\n",
    "print(f\"\\nTraining completed in {training_time:.1f} minutes\")"
   ]
  },
  {
   "cell_type": "code",
   "execution_count": 11,
   "id": "6c374fab",
   "metadata": {},
   "outputs": [
    {
     "data": {
      "text/plain": [
       "['label_encoder.pkl']"
      ]
     },
     "execution_count": 11,
     "metadata": {},
     "output_type": "execute_result"
    }
   ],
   "source": [
    "import joblib\n",
    "joblib.dump(model, 'disease_predictor_model.pkl')\n",
    "joblib.dump(le, 'label_encoder.pkl')\n"
   ]
  },
  {
   "cell_type": "code",
   "execution_count": 12,
   "id": "40ac33b1",
   "metadata": {},
   "outputs": [
    {
     "name": "stdout",
     "output_type": "stream",
     "text": [
      "Model Accuracy: 84.75%\n"
     ]
    }
   ],
   "source": [
    "# Make predictions on the test set\n",
    "y_pred = model.predict(X_test)\n",
    "\n",
    "# Calculate Accuracy\n",
    "from sklearn.metrics import accuracy_score\n",
    "\n",
    "accuracy = accuracy_score(y_test, y_pred)\n",
    "print(f\"Model Accuracy: {accuracy * 100:.2f}%\")"
   ]
  },
  {
   "cell_type": "code",
   "execution_count": null,
   "id": "226a743b",
   "metadata": {},
   "outputs": [
    {
     "name": "stderr",
     "output_type": "stream",
     "text": [
      "/home/anshu/code_space/disease-symptom-diagnosis/venv/lib/python3.12/site-packages/sklearn/model_selection/_split.py:805: UserWarning: The least populated class in y has only 2 members, which is less than n_splits=3.\n",
      "  warnings.warn(\n"
     ]
    }
   ],
   "source": [
    "from sklearn.model_selection import GridSearchCV\n",
    "\n",
    "params = {\n",
    "    'max_depth': [4, 6, 8],          # Controls tree depth\n",
    "    'learning_rate': [0.01, 0.1, 0.2],  # Step size shrinkage\n",
    "    'n_estimators': [100, 200, 300],  # Number of trees\n",
    "    'subsample': [0.8, 1.0],         # Fraction of samples used per tree\n",
    "    'colsample_bytree': [0.8, 1.0],  # Fraction of features used per tree\n",
    "    'gamma': [0, 0.1, 0.2],          # Minimum loss reduction for splits\n",
    "    'reg_alpha': [0, 0.1, 1],        # L1 regularization\n",
    "    'reg_lambda': [0, 0.1, 1],       # L2 regularization\n",
    "}\n",
    "\n",
    "model = XGBClassifier(objective='multi:softmax', num_class=len(le.classes_))\n",
    "grid = GridSearchCV(model, params, cv=3, scoring='accuracy', n_jobs=-1)\n",
    "grid.fit(X_train, y_train)\n",
    "\n",
    "best_model = grid.best_estimator_\n",
    "print(f\"Best parameters: {grid.best_params_}\")"
   ]
  }
 ],
 "metadata": {
  "kernelspec": {
   "display_name": "venv",
   "language": "python",
   "name": "python3"
  },
  "language_info": {
   "codemirror_mode": {
    "name": "ipython",
    "version": 3
   },
   "file_extension": ".py",
   "mimetype": "text/x-python",
   "name": "python",
   "nbconvert_exporter": "python",
   "pygments_lexer": "ipython3",
   "version": "3.12.3"
  }
 },
 "nbformat": 4,
 "nbformat_minor": 5
}
